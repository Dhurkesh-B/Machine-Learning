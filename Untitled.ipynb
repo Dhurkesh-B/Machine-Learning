{
 "cells": [
  {
   "cell_type": "code",
   "execution_count": 1,
   "id": "658d12d9-4b9d-4a6a-9861-c12b46d2a06c",
   "metadata": {},
   "outputs": [],
   "source": [
    "import pandas as pd\n",
    "import numpy as np\n",
    "import matplotlib.pyplot as plt"
   ]
  },
  {
   "cell_type": "code",
   "execution_count": 3,
   "id": "15021863-79de-4c1d-92fc-aca3515cb231",
   "metadata": {},
   "outputs": [
    {
     "name": "stdout",
     "output_type": "stream",
     "text": [
      " Volume in drive C is OS\n",
      " Volume Serial Number is 044B-30C3\n",
      "\n",
      " Directory of C:\\Users\\dhurk\\Downloads\\machine-learning\n",
      "\n",
      "04-03-2025  20:13    <DIR>          .\n",
      "04-03-2025  20:12    <DIR>          ..\n",
      "04-03-2025  20:13    <DIR>          .ipynb_checkpoints\n",
      "03-03-2025  23:05                16 data.txt\n",
      "03-03-2025  21:05                17 info.txt\n",
      "03-03-2025  23:12                31 Readme.md\n",
      "04-03-2025  20:13               337 Untitled.ipynb\n",
      "               4 File(s)            401 bytes\n",
      "               3 Dir(s)  313,296,302,080 bytes free\n"
     ]
    }
   ],
   "source": [
    "!dir"
   ]
  },
  {
   "cell_type": "code",
   "execution_count": null,
   "id": "526c42ca-44a5-4176-94e9-0e78c049f92d",
   "metadata": {},
   "outputs": [],
   "source": []
  }
 ],
 "metadata": {
  "kernelspec": {
   "display_name": "Python 3 (ipykernel)",
   "language": "python",
   "name": "python3"
  },
  "language_info": {
   "codemirror_mode": {
    "name": "ipython",
    "version": 3
   },
   "file_extension": ".py",
   "mimetype": "text/x-python",
   "name": "python",
   "nbconvert_exporter": "python",
   "pygments_lexer": "ipython3",
   "version": "3.12.3"
  }
 },
 "nbformat": 4,
 "nbformat_minor": 5
}
